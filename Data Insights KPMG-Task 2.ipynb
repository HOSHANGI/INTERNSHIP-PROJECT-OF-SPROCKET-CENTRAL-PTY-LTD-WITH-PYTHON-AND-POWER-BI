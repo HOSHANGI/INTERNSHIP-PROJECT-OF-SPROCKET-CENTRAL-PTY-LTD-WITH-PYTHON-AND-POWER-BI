{
 "cells": [
  {
   "cell_type": "markdown",
   "id": "a78f5234",
   "metadata": {},
   "source": [
    "## Phase 1: Data Exploration\n",
    "\n",
    "#### Understand the data: \n",
    "* Review the three datasets provided - Customer demographic, customer address, and transactions data. Familiarize yourself with the fields, their meanings, and any data quality issues.\n",
    "#### Data cleaning: \n",
    "* Identify and handle missing values, outliers, and duplicates. Clean up the datasets to ensure consistency and accuracy.\n",
    "#### Exploratory data analysis: \n",
    "* Perform statistical analysis and visualizations to gain insights into the data. Understand the distributions, correlations, and patterns within each dataset.\n",
    "#### Customer segmentation: \n",
    "* Segment the customer base based on demographics and transactional behavior to identify different customer groups.\n",
    "#### External data integration: \n",
    "* Explore the possibility of incorporating additional variables from external sources like the ABS/Census to enhance the analysis. Identify relevant variables that may provide additional insights.\n",
    "\n",
    "## Phase 2: Model Development\n",
    "\n",
    "#### Feature engineering: \n",
    "* Transform the existing raw data fields into calculated fields that could be useful for modeling purposes. For example, convert date of birth to age or age groups.\n",
    "#### Data preprocessing: \n",
    "* Prepare the data for modeling by performing necessary transformations, such as encoding categorical variables, scaling numerical variables, and handling missing data.\n",
    "#### Model selection: \n",
    "* Identify suitable machine learning algorithms for customer targeting. Consider techniques like classification, regression, or clustering, depending on the specific objectives.\n",
    "#### Model training and evaluation: \n",
    "* Train the selected models using the labeled dataset provided. Evaluate the models' performance using appropriate metrics \n",
    "#### Model refinement: \n",
    "* Fine-tune the models by adjusting hyperparameters and feature selection techniques to improve their predictive capabilities.\n"
   ]
  },
  {
   "cell_type": "markdown",
   "id": "95365ddb",
   "metadata": {},
   "source": [
    "#  To perform exploratory data analysis (EDA) and gain insights into the data, you can use Python and popular libraries such as Pandas, NumPy, and Matplotlib.\n",
    "\n",
    "* Import the necessary libraries"
   ]
  },
  {
   "cell_type": "code",
   "execution_count": 30,
   "id": "4c6d7339",
   "metadata": {},
   "outputs": [],
   "source": [
    "import numpy as np\n",
    "import pandas as pd\n",
    "import matplotlib.pyplot as plt\n",
    "import seaborn as sns\n",
    "import warnings \n",
    "warnings.filterwarnings('ignore')"
   ]
  },
  {
   "cell_type": "code",
   "execution_count": 59,
   "id": "a5fd1eac",
   "metadata": {},
   "outputs": [],
   "source": [
    "# Load the datasets\n",
    "\n",
    "df = pd.read_csv(r'C:\\Users\\HOSHANGI\\Downloads\\customer_demographic.csv')\n",
    "df1 = pd.read_csv(r'C:\\Users\\HOSHANGI\\Downloads\\customer_address.csv')\n",
    "df2 = pd.read_csv(r'C:\\Users\\HOSHANGI\\Downloads\\customer_transaction.csv')"
   ]
  },
  {
   "cell_type": "code",
   "execution_count": 60,
   "id": "0e2a6731",
   "metadata": {},
   "outputs": [
    {
     "data": {
      "text/html": [
       "<div>\n",
       "<style scoped>\n",
       "    .dataframe tbody tr th:only-of-type {\n",
       "        vertical-align: middle;\n",
       "    }\n",
       "\n",
       "    .dataframe tbody tr th {\n",
       "        vertical-align: top;\n",
       "    }\n",
       "\n",
       "    .dataframe thead th {\n",
       "        text-align: right;\n",
       "    }\n",
       "</style>\n",
       "<table border=\"1\" class=\"dataframe\">\n",
       "  <thead>\n",
       "    <tr style=\"text-align: right;\">\n",
       "      <th></th>\n",
       "      <th>customer_id</th>\n",
       "      <th>first_name</th>\n",
       "      <th>last_name</th>\n",
       "      <th>gender</th>\n",
       "      <th>past_3_years_bike_related_purchases</th>\n",
       "      <th>DOB</th>\n",
       "      <th>job_title</th>\n",
       "      <th>job_industry_category</th>\n",
       "      <th>wealth_segment</th>\n",
       "      <th>deceased_indicator</th>\n",
       "      <th>owns_car</th>\n",
       "      <th>tenure</th>\n",
       "    </tr>\n",
       "  </thead>\n",
       "  <tbody>\n",
       "    <tr>\n",
       "      <th>0</th>\n",
       "      <td>720</td>\n",
       "      <td>Darrel</td>\n",
       "      <td>Canet</td>\n",
       "      <td>Male</td>\n",
       "      <td>67</td>\n",
       "      <td>10/23/1931</td>\n",
       "      <td>Recruiting Manager</td>\n",
       "      <td>Retail</td>\n",
       "      <td>Affluent Customer</td>\n",
       "      <td>N</td>\n",
       "      <td>No</td>\n",
       "      <td>6.0</td>\n",
       "    </tr>\n",
       "    <tr>\n",
       "      <th>1</th>\n",
       "      <td>1092</td>\n",
       "      <td>Katlin</td>\n",
       "      <td>Creddon</td>\n",
       "      <td>Female</td>\n",
       "      <td>56</td>\n",
       "      <td>8/22/1935</td>\n",
       "      <td>VP Quality Control</td>\n",
       "      <td>Retail</td>\n",
       "      <td>Mass Customer</td>\n",
       "      <td>N</td>\n",
       "      <td>No</td>\n",
       "      <td>5.0</td>\n",
       "    </tr>\n",
       "    <tr>\n",
       "      <th>2</th>\n",
       "      <td>3410</td>\n",
       "      <td>Merrili</td>\n",
       "      <td>Brittin</td>\n",
       "      <td>Female</td>\n",
       "      <td>93</td>\n",
       "      <td>9/22/1940</td>\n",
       "      <td>NaN</td>\n",
       "      <td>Property</td>\n",
       "      <td>Mass Customer</td>\n",
       "      <td>N</td>\n",
       "      <td>No</td>\n",
       "      <td>16.0</td>\n",
       "    </tr>\n",
       "    <tr>\n",
       "      <th>3</th>\n",
       "      <td>2413</td>\n",
       "      <td>Abbey</td>\n",
       "      <td>Murrow</td>\n",
       "      <td>Male</td>\n",
       "      <td>27</td>\n",
       "      <td>8/11/1943</td>\n",
       "      <td>Environmental Specialist</td>\n",
       "      <td>Manufacturing</td>\n",
       "      <td>High Net Worth</td>\n",
       "      <td>N</td>\n",
       "      <td>Yes</td>\n",
       "      <td>17.0</td>\n",
       "    </tr>\n",
       "    <tr>\n",
       "      <th>4</th>\n",
       "      <td>658</td>\n",
       "      <td>Donn</td>\n",
       "      <td>Bonnell</td>\n",
       "      <td>Male</td>\n",
       "      <td>38</td>\n",
       "      <td>1/24/1944</td>\n",
       "      <td>Tax Accountant</td>\n",
       "      <td>Manufacturing</td>\n",
       "      <td>Affluent Customer</td>\n",
       "      <td>N</td>\n",
       "      <td>Yes</td>\n",
       "      <td>8.0</td>\n",
       "    </tr>\n",
       "  </tbody>\n",
       "</table>\n",
       "</div>"
      ],
      "text/plain": [
       "   customer_id first_name last_name  gender  \\\n",
       "0          720     Darrel     Canet    Male   \n",
       "1         1092     Katlin   Creddon  Female   \n",
       "2         3410    Merrili   Brittin  Female   \n",
       "3         2413      Abbey    Murrow    Male   \n",
       "4          658       Donn   Bonnell    Male   \n",
       "\n",
       "   past_3_years_bike_related_purchases         DOB                 job_title  \\\n",
       "0                                   67  10/23/1931        Recruiting Manager   \n",
       "1                                   56   8/22/1935        VP Quality Control   \n",
       "2                                   93   9/22/1940                       NaN   \n",
       "3                                   27   8/11/1943  Environmental Specialist   \n",
       "4                                   38   1/24/1944            Tax Accountant   \n",
       "\n",
       "  job_industry_category     wealth_segment deceased_indicator owns_car  tenure  \n",
       "0                Retail  Affluent Customer                  N       No     6.0  \n",
       "1                Retail      Mass Customer                  N       No     5.0  \n",
       "2              Property      Mass Customer                  N       No    16.0  \n",
       "3         Manufacturing     High Net Worth                  N      Yes    17.0  \n",
       "4         Manufacturing  Affluent Customer                  N      Yes     8.0  "
      ]
     },
     "execution_count": 60,
     "metadata": {},
     "output_type": "execute_result"
    }
   ],
   "source": [
    "df.head()"
   ]
  },
  {
   "cell_type": "code",
   "execution_count": 61,
   "id": "fbc28404",
   "metadata": {
    "scrolled": false
   },
   "outputs": [
    {
     "data": {
      "text/html": [
       "<div>\n",
       "<style scoped>\n",
       "    .dataframe tbody tr th:only-of-type {\n",
       "        vertical-align: middle;\n",
       "    }\n",
       "\n",
       "    .dataframe tbody tr th {\n",
       "        vertical-align: top;\n",
       "    }\n",
       "\n",
       "    .dataframe thead th {\n",
       "        text-align: right;\n",
       "    }\n",
       "</style>\n",
       "<table border=\"1\" class=\"dataframe\">\n",
       "  <thead>\n",
       "    <tr style=\"text-align: right;\">\n",
       "      <th></th>\n",
       "      <th>customer_id</th>\n",
       "      <th>first_name</th>\n",
       "      <th>last_name</th>\n",
       "      <th>gender</th>\n",
       "      <th>past_3_years_bike_related_purchases</th>\n",
       "      <th>DOB</th>\n",
       "      <th>job_title</th>\n",
       "      <th>job_industry_category</th>\n",
       "      <th>wealth_segment</th>\n",
       "      <th>deceased_indicator</th>\n",
       "      <th>owns_car</th>\n",
       "      <th>tenure</th>\n",
       "    </tr>\n",
       "  </thead>\n",
       "  <tbody>\n",
       "    <tr>\n",
       "      <th>3995</th>\n",
       "      <td>3779</td>\n",
       "      <td>Ulick</td>\n",
       "      <td>Daspar</td>\n",
       "      <td>U</td>\n",
       "      <td>68</td>\n",
       "      <td>NaN</td>\n",
       "      <td>NaN</td>\n",
       "      <td>IT</td>\n",
       "      <td>Affluent Customer</td>\n",
       "      <td>N</td>\n",
       "      <td>No</td>\n",
       "      <td>NaN</td>\n",
       "    </tr>\n",
       "    <tr>\n",
       "      <th>3996</th>\n",
       "      <td>3883</td>\n",
       "      <td>Nissa</td>\n",
       "      <td>Conrad</td>\n",
       "      <td>U</td>\n",
       "      <td>35</td>\n",
       "      <td>NaN</td>\n",
       "      <td>Legal Assistant</td>\n",
       "      <td>IT</td>\n",
       "      <td>Mass Customer</td>\n",
       "      <td>N</td>\n",
       "      <td>No</td>\n",
       "      <td>NaN</td>\n",
       "    </tr>\n",
       "    <tr>\n",
       "      <th>3997</th>\n",
       "      <td>3931</td>\n",
       "      <td>Kylie</td>\n",
       "      <td>Epine</td>\n",
       "      <td>U</td>\n",
       "      <td>19</td>\n",
       "      <td>NaN</td>\n",
       "      <td>NaN</td>\n",
       "      <td>IT</td>\n",
       "      <td>High Net Worth</td>\n",
       "      <td>N</td>\n",
       "      <td>Yes</td>\n",
       "      <td>NaN</td>\n",
       "    </tr>\n",
       "    <tr>\n",
       "      <th>3998</th>\n",
       "      <td>3935</td>\n",
       "      <td>Teodor</td>\n",
       "      <td>Alfonsini</td>\n",
       "      <td>U</td>\n",
       "      <td>72</td>\n",
       "      <td>NaN</td>\n",
       "      <td>NaN</td>\n",
       "      <td>IT</td>\n",
       "      <td>High Net Worth</td>\n",
       "      <td>N</td>\n",
       "      <td>Yes</td>\n",
       "      <td>NaN</td>\n",
       "    </tr>\n",
       "    <tr>\n",
       "      <th>3999</th>\n",
       "      <td>3998</td>\n",
       "      <td>Sarene</td>\n",
       "      <td>Woolley</td>\n",
       "      <td>U</td>\n",
       "      <td>60</td>\n",
       "      <td>NaN</td>\n",
       "      <td>Assistant Manager</td>\n",
       "      <td>IT</td>\n",
       "      <td>High Net Worth</td>\n",
       "      <td>N</td>\n",
       "      <td>No</td>\n",
       "      <td>NaN</td>\n",
       "    </tr>\n",
       "  </tbody>\n",
       "</table>\n",
       "</div>"
      ],
      "text/plain": [
       "      customer_id first_name  last_name gender  \\\n",
       "3995         3779      Ulick     Daspar      U   \n",
       "3996         3883      Nissa     Conrad      U   \n",
       "3997         3931      Kylie      Epine      U   \n",
       "3998         3935     Teodor  Alfonsini      U   \n",
       "3999         3998     Sarene    Woolley      U   \n",
       "\n",
       "      past_3_years_bike_related_purchases  DOB          job_title  \\\n",
       "3995                                   68  NaN                NaN   \n",
       "3996                                   35  NaN    Legal Assistant   \n",
       "3997                                   19  NaN                NaN   \n",
       "3998                                   72  NaN                NaN   \n",
       "3999                                   60  NaN  Assistant Manager   \n",
       "\n",
       "     job_industry_category     wealth_segment deceased_indicator owns_car  \\\n",
       "3995                    IT  Affluent Customer                  N       No   \n",
       "3996                    IT      Mass Customer                  N       No   \n",
       "3997                    IT     High Net Worth                  N      Yes   \n",
       "3998                    IT     High Net Worth                  N      Yes   \n",
       "3999                    IT     High Net Worth                  N       No   \n",
       "\n",
       "      tenure  \n",
       "3995     NaN  \n",
       "3996     NaN  \n",
       "3997     NaN  \n",
       "3998     NaN  \n",
       "3999     NaN  "
      ]
     },
     "execution_count": 61,
     "metadata": {},
     "output_type": "execute_result"
    }
   ],
   "source": [
    "df.tail()"
   ]
  },
  {
   "cell_type": "code",
   "execution_count": 62,
   "id": "2b730a6f",
   "metadata": {},
   "outputs": [
    {
     "data": {
      "text/plain": [
       "customer_id                              0\n",
       "first_name                               0\n",
       "last_name                              125\n",
       "gender                                   0\n",
       "past_3_years_bike_related_purchases      0\n",
       "DOB                                     87\n",
       "job_title                              506\n",
       "job_industry_category                  656\n",
       "wealth_segment                           0\n",
       "deceased_indicator                       0\n",
       "owns_car                                 0\n",
       "tenure                                  87\n",
       "dtype: int64"
      ]
     },
     "execution_count": 62,
     "metadata": {},
     "output_type": "execute_result"
    }
   ],
   "source": [
    "df.isnull().sum()"
   ]
  },
  {
   "cell_type": "code",
   "execution_count": 63,
   "id": "066cbf2b",
   "metadata": {},
   "outputs": [
    {
     "data": {
      "text/plain": [
       "1461"
      ]
     },
     "execution_count": 63,
     "metadata": {},
     "output_type": "execute_result"
    }
   ],
   "source": [
    "df.isnull().sum().sum()"
   ]
  },
  {
   "cell_type": "code",
   "execution_count": 66,
   "id": "4e0f5487",
   "metadata": {
    "scrolled": true
   },
   "outputs": [],
   "source": [
    "df = df.dropna(axis = 0)"
   ]
  },
  {
   "cell_type": "code",
   "execution_count": 67,
   "id": "41c12a94",
   "metadata": {
    "scrolled": true
   },
   "outputs": [
    {
     "data": {
      "text/html": [
       "<div>\n",
       "<style scoped>\n",
       "    .dataframe tbody tr th:only-of-type {\n",
       "        vertical-align: middle;\n",
       "    }\n",
       "\n",
       "    .dataframe tbody tr th {\n",
       "        vertical-align: top;\n",
       "    }\n",
       "\n",
       "    .dataframe thead th {\n",
       "        text-align: right;\n",
       "    }\n",
       "</style>\n",
       "<table border=\"1\" class=\"dataframe\">\n",
       "  <thead>\n",
       "    <tr style=\"text-align: right;\">\n",
       "      <th></th>\n",
       "      <th>customer_id</th>\n",
       "      <th>first_name</th>\n",
       "      <th>last_name</th>\n",
       "      <th>gender</th>\n",
       "      <th>past_3_years_bike_related_purchases</th>\n",
       "      <th>DOB</th>\n",
       "      <th>job_title</th>\n",
       "      <th>job_industry_category</th>\n",
       "      <th>wealth_segment</th>\n",
       "      <th>deceased_indicator</th>\n",
       "      <th>owns_car</th>\n",
       "      <th>tenure</th>\n",
       "    </tr>\n",
       "  </thead>\n",
       "  <tbody>\n",
       "    <tr>\n",
       "      <th>3905</th>\n",
       "      <td>3949</td>\n",
       "      <td>Costa</td>\n",
       "      <td>Sleightholm</td>\n",
       "      <td>Male</td>\n",
       "      <td>24</td>\n",
       "      <td>12/19/2001</td>\n",
       "      <td>Web Designer IV</td>\n",
       "      <td>Manufacturing</td>\n",
       "      <td>High Net Worth</td>\n",
       "      <td>N</td>\n",
       "      <td>Yes</td>\n",
       "      <td>1.0</td>\n",
       "    </tr>\n",
       "    <tr>\n",
       "      <th>3906</th>\n",
       "      <td>2296</td>\n",
       "      <td>Nathalia</td>\n",
       "      <td>Sanger</td>\n",
       "      <td>Female</td>\n",
       "      <td>16</td>\n",
       "      <td>1/1/2002</td>\n",
       "      <td>Geologist IV</td>\n",
       "      <td>Retail</td>\n",
       "      <td>Affluent Customer</td>\n",
       "      <td>N</td>\n",
       "      <td>No</td>\n",
       "      <td>1.0</td>\n",
       "    </tr>\n",
       "    <tr>\n",
       "      <th>3910</th>\n",
       "      <td>1888</td>\n",
       "      <td>Sibyl</td>\n",
       "      <td>Scholtz</td>\n",
       "      <td>Female</td>\n",
       "      <td>67</td>\n",
       "      <td>1/26/2002</td>\n",
       "      <td>Food Chemist</td>\n",
       "      <td>Health</td>\n",
       "      <td>Mass Customer</td>\n",
       "      <td>N</td>\n",
       "      <td>Yes</td>\n",
       "      <td>1.0</td>\n",
       "    </tr>\n",
       "    <tr>\n",
       "      <th>3911</th>\n",
       "      <td>66</td>\n",
       "      <td>Anselm</td>\n",
       "      <td>Gawne</td>\n",
       "      <td>Male</td>\n",
       "      <td>46</td>\n",
       "      <td>3/11/2002</td>\n",
       "      <td>Account Executive</td>\n",
       "      <td>Argiculture</td>\n",
       "      <td>High Net Worth</td>\n",
       "      <td>N</td>\n",
       "      <td>No</td>\n",
       "      <td>1.0</td>\n",
       "    </tr>\n",
       "    <tr>\n",
       "      <th>3912</th>\n",
       "      <td>34</td>\n",
       "      <td>Jephthah</td>\n",
       "      <td>Bachmann</td>\n",
       "      <td>U</td>\n",
       "      <td>59</td>\n",
       "      <td>1843-12-21</td>\n",
       "      <td>Legal Assistant</td>\n",
       "      <td>IT</td>\n",
       "      <td>Affluent Customer</td>\n",
       "      <td>N</td>\n",
       "      <td>No</td>\n",
       "      <td>20.0</td>\n",
       "    </tr>\n",
       "  </tbody>\n",
       "</table>\n",
       "</div>"
      ],
      "text/plain": [
       "      customer_id first_name    last_name  gender  \\\n",
       "3905         3949      Costa  Sleightholm    Male   \n",
       "3906         2296   Nathalia       Sanger  Female   \n",
       "3910         1888      Sibyl      Scholtz  Female   \n",
       "3911           66     Anselm        Gawne    Male   \n",
       "3912           34   Jephthah     Bachmann       U   \n",
       "\n",
       "      past_3_years_bike_related_purchases                 DOB  \\\n",
       "3905                                   24          12/19/2001   \n",
       "3906                                   16            1/1/2002   \n",
       "3910                                   67           1/26/2002   \n",
       "3911                                   46           3/11/2002   \n",
       "3912                                   59          1843-12-21   \n",
       "\n",
       "              job_title job_industry_category     wealth_segment  \\\n",
       "3905    Web Designer IV         Manufacturing     High Net Worth   \n",
       "3906       Geologist IV                Retail  Affluent Customer   \n",
       "3910       Food Chemist                Health      Mass Customer   \n",
       "3911  Account Executive           Argiculture     High Net Worth   \n",
       "3912    Legal Assistant                    IT  Affluent Customer   \n",
       "\n",
       "     deceased_indicator owns_car  tenure  \n",
       "3905                  N      Yes     1.0  \n",
       "3906                  N       No     1.0  \n",
       "3910                  N      Yes     1.0  \n",
       "3911                  N       No     1.0  \n",
       "3912                  N       No    20.0  "
      ]
     },
     "execution_count": 67,
     "metadata": {},
     "output_type": "execute_result"
    }
   ],
   "source": [
    "df.tail()"
   ]
  },
  {
   "cell_type": "code",
   "execution_count": 33,
   "id": "733c0923",
   "metadata": {},
   "outputs": [
    {
     "data": {
      "text/html": [
       "<div>\n",
       "<style scoped>\n",
       "    .dataframe tbody tr th:only-of-type {\n",
       "        vertical-align: middle;\n",
       "    }\n",
       "\n",
       "    .dataframe tbody tr th {\n",
       "        vertical-align: top;\n",
       "    }\n",
       "\n",
       "    .dataframe thead th {\n",
       "        text-align: right;\n",
       "    }\n",
       "</style>\n",
       "<table border=\"1\" class=\"dataframe\">\n",
       "  <thead>\n",
       "    <tr style=\"text-align: right;\">\n",
       "      <th></th>\n",
       "      <th>customer_id</th>\n",
       "      <th>address</th>\n",
       "      <th>postcode</th>\n",
       "      <th>state</th>\n",
       "      <th>country</th>\n",
       "      <th>property_valuation</th>\n",
       "    </tr>\n",
       "  </thead>\n",
       "  <tbody>\n",
       "    <tr>\n",
       "      <th>0</th>\n",
       "      <td>1</td>\n",
       "      <td>060 Morning Avenue</td>\n",
       "      <td>2016</td>\n",
       "      <td>New South Wales</td>\n",
       "      <td>Australia</td>\n",
       "      <td>10</td>\n",
       "    </tr>\n",
       "    <tr>\n",
       "      <th>1</th>\n",
       "      <td>2</td>\n",
       "      <td>6 Meadow Vale Court</td>\n",
       "      <td>2153</td>\n",
       "      <td>New South Wales</td>\n",
       "      <td>Australia</td>\n",
       "      <td>10</td>\n",
       "    </tr>\n",
       "    <tr>\n",
       "      <th>2</th>\n",
       "      <td>4</td>\n",
       "      <td>0 Holy Cross Court</td>\n",
       "      <td>4211</td>\n",
       "      <td>QLD</td>\n",
       "      <td>Australia</td>\n",
       "      <td>9</td>\n",
       "    </tr>\n",
       "    <tr>\n",
       "      <th>3</th>\n",
       "      <td>5</td>\n",
       "      <td>17979 Del Mar Point</td>\n",
       "      <td>2448</td>\n",
       "      <td>New South Wales</td>\n",
       "      <td>Australia</td>\n",
       "      <td>4</td>\n",
       "    </tr>\n",
       "    <tr>\n",
       "      <th>4</th>\n",
       "      <td>6</td>\n",
       "      <td>9 Oakridge Court</td>\n",
       "      <td>3216</td>\n",
       "      <td>VIC</td>\n",
       "      <td>Australia</td>\n",
       "      <td>9</td>\n",
       "    </tr>\n",
       "  </tbody>\n",
       "</table>\n",
       "</div>"
      ],
      "text/plain": [
       "   customer_id              address  postcode            state    country  \\\n",
       "0            1   060 Morning Avenue      2016  New South Wales  Australia   \n",
       "1            2  6 Meadow Vale Court      2153  New South Wales  Australia   \n",
       "2            4   0 Holy Cross Court      4211              QLD  Australia   \n",
       "3            5  17979 Del Mar Point      2448  New South Wales  Australia   \n",
       "4            6     9 Oakridge Court      3216              VIC  Australia   \n",
       "\n",
       "   property_valuation  \n",
       "0                  10  \n",
       "1                  10  \n",
       "2                   9  \n",
       "3                   4  \n",
       "4                   9  "
      ]
     },
     "execution_count": 33,
     "metadata": {},
     "output_type": "execute_result"
    }
   ],
   "source": [
    "df1.head()"
   ]
  },
  {
   "cell_type": "code",
   "execution_count": 71,
   "id": "f3e85fc9",
   "metadata": {},
   "outputs": [
    {
     "data": {
      "text/plain": [
       "customer_id                            0\n",
       "first_name                             0\n",
       "last_name                              0\n",
       "gender                                 0\n",
       "past_3_years_bike_related_purchases    0\n",
       "DOB                                    0\n",
       "job_title                              0\n",
       "job_industry_category                  0\n",
       "wealth_segment                         0\n",
       "deceased_indicator                     0\n",
       "owns_car                               0\n",
       "tenure                                 0\n",
       "dtype: int64"
      ]
     },
     "execution_count": 71,
     "metadata": {},
     "output_type": "execute_result"
    }
   ],
   "source": [
    "df.isnull().sum()"
   ]
  },
  {
   "cell_type": "code",
   "execution_count": 34,
   "id": "d19e8d2f",
   "metadata": {},
   "outputs": [
    {
     "data": {
      "text/html": [
       "<div>\n",
       "<style scoped>\n",
       "    .dataframe tbody tr th:only-of-type {\n",
       "        vertical-align: middle;\n",
       "    }\n",
       "\n",
       "    .dataframe tbody tr th {\n",
       "        vertical-align: top;\n",
       "    }\n",
       "\n",
       "    .dataframe thead th {\n",
       "        text-align: right;\n",
       "    }\n",
       "</style>\n",
       "<table border=\"1\" class=\"dataframe\">\n",
       "  <thead>\n",
       "    <tr style=\"text-align: right;\">\n",
       "      <th></th>\n",
       "      <th>transaction_id</th>\n",
       "      <th>product_id</th>\n",
       "      <th>customer_id</th>\n",
       "      <th>transaction_date</th>\n",
       "      <th>online_order</th>\n",
       "      <th>order_status</th>\n",
       "      <th>brand</th>\n",
       "      <th>product_line</th>\n",
       "      <th>product_class</th>\n",
       "      <th>product_size</th>\n",
       "      <th>list_price</th>\n",
       "      <th>standard_cost</th>\n",
       "      <th>product_first_sold_date</th>\n",
       "    </tr>\n",
       "  </thead>\n",
       "  <tbody>\n",
       "    <tr>\n",
       "      <th>0</th>\n",
       "      <td>140</td>\n",
       "      <td>11</td>\n",
       "      <td>462</td>\n",
       "      <td>1/1/2017</td>\n",
       "      <td>False</td>\n",
       "      <td>Approved</td>\n",
       "      <td>Giant Bicycles</td>\n",
       "      <td>Standard</td>\n",
       "      <td>high</td>\n",
       "      <td>medium</td>\n",
       "      <td>1274.93</td>\n",
       "      <td>$764.96</td>\n",
       "      <td>42560.0</td>\n",
       "    </tr>\n",
       "    <tr>\n",
       "      <th>1</th>\n",
       "      <td>517</td>\n",
       "      <td>77</td>\n",
       "      <td>311</td>\n",
       "      <td>1/1/2017</td>\n",
       "      <td>True</td>\n",
       "      <td>Approved</td>\n",
       "      <td>WeareA2B</td>\n",
       "      <td>Standard</td>\n",
       "      <td>medium</td>\n",
       "      <td>medium</td>\n",
       "      <td>1769.64</td>\n",
       "      <td>$108.76</td>\n",
       "      <td>40672.0</td>\n",
       "    </tr>\n",
       "    <tr>\n",
       "      <th>2</th>\n",
       "      <td>561</td>\n",
       "      <td>65</td>\n",
       "      <td>2298</td>\n",
       "      <td>1/1/2017</td>\n",
       "      <td>False</td>\n",
       "      <td>Approved</td>\n",
       "      <td>WeareA2B</td>\n",
       "      <td>Standard</td>\n",
       "      <td>medium</td>\n",
       "      <td>medium</td>\n",
       "      <td>1807.45</td>\n",
       "      <td>$778.69</td>\n",
       "      <td>40410.0</td>\n",
       "    </tr>\n",
       "    <tr>\n",
       "      <th>3</th>\n",
       "      <td>1293</td>\n",
       "      <td>67</td>\n",
       "      <td>1931</td>\n",
       "      <td>1/1/2017</td>\n",
       "      <td>True</td>\n",
       "      <td>Approved</td>\n",
       "      <td>Norco Bicycles</td>\n",
       "      <td>Road</td>\n",
       "      <td>medium</td>\n",
       "      <td>medium</td>\n",
       "      <td>544.05</td>\n",
       "      <td>$376.84</td>\n",
       "      <td>38647.0</td>\n",
       "    </tr>\n",
       "    <tr>\n",
       "      <th>4</th>\n",
       "      <td>1403</td>\n",
       "      <td>0</td>\n",
       "      <td>2891</td>\n",
       "      <td>1/1/2017</td>\n",
       "      <td>True</td>\n",
       "      <td>Approved</td>\n",
       "      <td>OHM Cycles</td>\n",
       "      <td>Standard</td>\n",
       "      <td>medium</td>\n",
       "      <td>medium</td>\n",
       "      <td>183.86</td>\n",
       "      <td>$137.90</td>\n",
       "      <td>34170.0</td>\n",
       "    </tr>\n",
       "  </tbody>\n",
       "</table>\n",
       "</div>"
      ],
      "text/plain": [
       "   transaction_id  product_id  customer_id transaction_date online_order  \\\n",
       "0             140          11          462         1/1/2017        False   \n",
       "1             517          77          311         1/1/2017         True   \n",
       "2             561          65         2298         1/1/2017        False   \n",
       "3            1293          67         1931         1/1/2017         True   \n",
       "4            1403           0         2891         1/1/2017         True   \n",
       "\n",
       "  order_status           brand product_line product_class product_size  \\\n",
       "0     Approved  Giant Bicycles     Standard          high       medium   \n",
       "1     Approved        WeareA2B     Standard        medium       medium   \n",
       "2     Approved        WeareA2B     Standard        medium       medium   \n",
       "3     Approved  Norco Bicycles         Road        medium       medium   \n",
       "4     Approved      OHM Cycles     Standard        medium       medium   \n",
       "\n",
       "   list_price standard_cost  product_first_sold_date  \n",
       "0     1274.93      $764.96                   42560.0  \n",
       "1     1769.64      $108.76                   40672.0  \n",
       "2     1807.45      $778.69                   40410.0  \n",
       "3      544.05      $376.84                   38647.0  \n",
       "4      183.86      $137.90                   34170.0  "
      ]
     },
     "execution_count": 34,
     "metadata": {},
     "output_type": "execute_result"
    }
   ],
   "source": [
    "df2.head()"
   ]
  },
  {
   "cell_type": "code",
   "execution_count": 70,
   "id": "6301dcb1",
   "metadata": {
    "scrolled": true
   },
   "outputs": [
    {
     "data": {
      "text/plain": [
       "customer_id                            0\n",
       "first_name                             0\n",
       "last_name                              0\n",
       "gender                                 0\n",
       "past_3_years_bike_related_purchases    0\n",
       "DOB                                    0\n",
       "job_title                              0\n",
       "job_industry_category                  0\n",
       "wealth_segment                         0\n",
       "deceased_indicator                     0\n",
       "owns_car                               0\n",
       "tenure                                 0\n",
       "dtype: int64"
      ]
     },
     "execution_count": 70,
     "metadata": {},
     "output_type": "execute_result"
    }
   ],
   "source": [
    "df.isnull().sum()"
   ]
  },
  {
   "cell_type": "markdown",
   "id": "dd051a9e",
   "metadata": {},
   "source": [
    "# 1. df(Customer Demographic) analysis"
   ]
  },
  {
   "cell_type": "code",
   "execution_count": 72,
   "id": "beb45396",
   "metadata": {},
   "outputs": [
    {
     "data": {
      "text/html": [
       "<div>\n",
       "<style scoped>\n",
       "    .dataframe tbody tr th:only-of-type {\n",
       "        vertical-align: middle;\n",
       "    }\n",
       "\n",
       "    .dataframe tbody tr th {\n",
       "        vertical-align: top;\n",
       "    }\n",
       "\n",
       "    .dataframe thead th {\n",
       "        text-align: right;\n",
       "    }\n",
       "</style>\n",
       "<table border=\"1\" class=\"dataframe\">\n",
       "  <thead>\n",
       "    <tr style=\"text-align: right;\">\n",
       "      <th></th>\n",
       "      <th>customer_id</th>\n",
       "      <th>past_3_years_bike_related_purchases</th>\n",
       "      <th>tenure</th>\n",
       "    </tr>\n",
       "  </thead>\n",
       "  <tbody>\n",
       "    <tr>\n",
       "      <th>count</th>\n",
       "      <td>2780.000000</td>\n",
       "      <td>2780.000000</td>\n",
       "      <td>2780.000000</td>\n",
       "    </tr>\n",
       "    <tr>\n",
       "      <th>mean</th>\n",
       "      <td>1962.354317</td>\n",
       "      <td>49.449640</td>\n",
       "      <td>10.703957</td>\n",
       "    </tr>\n",
       "    <tr>\n",
       "      <th>std</th>\n",
       "      <td>1150.471372</td>\n",
       "      <td>28.765195</td>\n",
       "      <td>5.674807</td>\n",
       "    </tr>\n",
       "    <tr>\n",
       "      <th>min</th>\n",
       "      <td>1.000000</td>\n",
       "      <td>0.000000</td>\n",
       "      <td>1.000000</td>\n",
       "    </tr>\n",
       "    <tr>\n",
       "      <th>25%</th>\n",
       "      <td>966.750000</td>\n",
       "      <td>25.000000</td>\n",
       "      <td>6.000000</td>\n",
       "    </tr>\n",
       "    <tr>\n",
       "      <th>50%</th>\n",
       "      <td>1952.500000</td>\n",
       "      <td>49.000000</td>\n",
       "      <td>11.000000</td>\n",
       "    </tr>\n",
       "    <tr>\n",
       "      <th>75%</th>\n",
       "      <td>2951.250000</td>\n",
       "      <td>74.000000</td>\n",
       "      <td>16.000000</td>\n",
       "    </tr>\n",
       "    <tr>\n",
       "      <th>max</th>\n",
       "      <td>3997.000000</td>\n",
       "      <td>99.000000</td>\n",
       "      <td>22.000000</td>\n",
       "    </tr>\n",
       "  </tbody>\n",
       "</table>\n",
       "</div>"
      ],
      "text/plain": [
       "       customer_id  past_3_years_bike_related_purchases       tenure\n",
       "count  2780.000000                          2780.000000  2780.000000\n",
       "mean   1962.354317                            49.449640    10.703957\n",
       "std    1150.471372                            28.765195     5.674807\n",
       "min       1.000000                             0.000000     1.000000\n",
       "25%     966.750000                            25.000000     6.000000\n",
       "50%    1952.500000                            49.000000    11.000000\n",
       "75%    2951.250000                            74.000000    16.000000\n",
       "max    3997.000000                            99.000000    22.000000"
      ]
     },
     "execution_count": 72,
     "metadata": {},
     "output_type": "execute_result"
    }
   ],
   "source": [
    "df.describe()"
   ]
  },
  {
   "cell_type": "code",
   "execution_count": 73,
   "id": "eaab2f33",
   "metadata": {},
   "outputs": [
    {
     "name": "stdout",
     "output_type": "stream",
     "text": [
      "<class 'pandas.core.frame.DataFrame'>\n",
      "Int64Index: 2780 entries, 0 to 3912\n",
      "Data columns (total 12 columns):\n",
      " #   Column                               Non-Null Count  Dtype  \n",
      "---  ------                               --------------  -----  \n",
      " 0   customer_id                          2780 non-null   int64  \n",
      " 1   first_name                           2780 non-null   object \n",
      " 2   last_name                            2780 non-null   object \n",
      " 3   gender                               2780 non-null   object \n",
      " 4   past_3_years_bike_related_purchases  2780 non-null   int64  \n",
      " 5   DOB                                  2780 non-null   object \n",
      " 6   job_title                            2780 non-null   object \n",
      " 7   job_industry_category                2780 non-null   object \n",
      " 8   wealth_segment                       2780 non-null   object \n",
      " 9   deceased_indicator                   2780 non-null   object \n",
      " 10  owns_car                             2780 non-null   object \n",
      " 11  tenure                               2780 non-null   float64\n",
      "dtypes: float64(1), int64(2), object(9)\n",
      "memory usage: 282.3+ KB\n"
     ]
    }
   ],
   "source": [
    "df.info()"
   ]
  },
  {
   "cell_type": "code",
   "execution_count": 74,
   "id": "f995425d",
   "metadata": {},
   "outputs": [
    {
     "name": "stdout",
     "output_type": "stream",
     "text": [
      "            DOB  Age\n",
      "0    1931-10-23   92\n",
      "1    1935-08-22   88\n",
      "3    1943-08-11   80\n",
      "4    1944-01-24   79\n",
      "5    1953-08-09   70\n",
      "...         ...  ...\n",
      "3905 2001-12-19   22\n",
      "3906 2002-01-01   21\n",
      "3910 2002-01-26   21\n",
      "3911 2002-03-11   21\n",
      "3912 1843-12-21  180\n",
      "\n",
      "[2780 rows x 2 columns]\n"
     ]
    }
   ],
   "source": [
    "import datetime\n",
    "\n",
    "# Convert 'DOB' column to datetime\n",
    "df['DOB'] = pd.to_datetime(df['DOB'])\n",
    "\n",
    "# Calculate current year\n",
    "current_year = datetime.datetime.now().year\n",
    "\n",
    "# Calculate age\n",
    "df['Age'] = current_year - df['DOB'].dt.year\n",
    "\n",
    "# Display the DataFrame with the calculated age\n",
    "print(df[['DOB', 'Age']])"
   ]
  },
  {
   "cell_type": "code",
   "execution_count": 85,
   "id": "2f62ad45",
   "metadata": {},
   "outputs": [
    {
     "data": {
      "image/png": "[encoded data removed]",
      "text/plain": [
       "<Figure size 2000x800 with 1 Axes>"
      ]
     },
     "metadata": {},
     "output_type": "display_data"
    }
   ],
   "source": [
    "# Plt of a specific numerical variable\n",
    "\n",
    "plt.figure(figsize = (20,8))\n",
    "sns.countplot(df['Age'])\n",
    "plt.xlabel('Age')\n",
    "plt.ylabel('Count')\n",
    "plt.title('Distribution of Age')\n",
    "plt.show()"
   ]
  },
  {
   "cell_type": "code",
   "execution_count": 112,
   "id": "1f2a532e",
   "metadata": {},
   "outputs": [
    {
     "name": "stdout",
     "output_type": "stream",
     "text": [
      "Female    1444\n",
      "Male      1333\n",
      "F            1\n",
      "Femal        1\n",
      "U            1\n",
      "Name: gender, dtype: int64\n"
     ]
    },
    {
     "data": {
      "image/png": "[encoded data removed]",
      "text/plain": [
       "<Figure size 640x480 with 1 Axes>"
      ]
     },
     "metadata": {},
     "output_type": "display_data"
    }
   ],
   "source": [
    "# Count of unique values in a categorical variable\n",
    "print(df['gender'].value_counts())\n",
    "\n",
    "# Bar plot of a categorical variable\n",
    "plt.bar(df['gender'].unique(), df['gender'].value_counts(), color = 'yellow')\n",
    "plt.xlabel('gender')\n",
    "plt.ylabel('Count')\n",
    "plt.title('Distribution of Gender')\n",
    "plt.show()"
   ]
  },
  {
   "cell_type": "code",
   "execution_count": 89,
   "id": "787052fc",
   "metadata": {},
   "outputs": [
    {
     "name": "stdout",
     "output_type": "stream",
     "text": [
      "                                     customer_id  \\\n",
      "customer_id                             1.000000   \n",
      "past_3_years_bike_related_purchases    -0.002851   \n",
      "tenure                                 -0.020991   \n",
      "Age                                     0.003723   \n",
      "\n",
      "                                     past_3_years_bike_related_purchases  \\\n",
      "customer_id                                                    -0.002851   \n",
      "past_3_years_bike_related_purchases                             1.000000   \n",
      "tenure                                                         -0.019881   \n",
      "Age                                                            -0.035752   \n",
      "\n",
      "                                       tenure       Age  \n",
      "customer_id                         -0.020991  0.003723  \n",
      "past_3_years_bike_related_purchases -0.019881 -0.035752  \n",
      "tenure                               1.000000  0.422871  \n",
      "Age                                  0.422871  1.000000  \n"
     ]
    },
    {
     "data": {
      "image/png": "[encoded data removed]",
      "text/plain": [
       "<Figure size 800x600 with 2 Axes>"
      ]
     },
     "metadata": {},
     "output_type": "display_data"
    }
   ],
   "source": [
    "# Correlation matrix\n",
    "corr_matrix = df.corr()\n",
    "print(corr_matrix)\n",
    "\n",
    "# Heatmap of correlations\n",
    "plt.figure(figsize=(8, 6))\n",
    "plt.imshow(corr_matrix, cmap='coolwarm', interpolation='none')\n",
    "plt.colorbar()\n",
    "plt.xticks(range(len(corr_matrix)), corr_matrix.columns, rotation=90)\n",
    "plt.yticks(range(len(corr_matrix)), corr_matrix.columns)\n",
    "plt.title('Correlation Matrix')\n",
    "plt.show()"
   ]
  },
  {
   "cell_type": "code",
   "execution_count": 118,
   "id": "683862e5",
   "metadata": {
    "scrolled": true
   },
   "outputs": [
    {
     "data": {
      "image/png": "[encoded data removed]",
      "text/plain": [
       "<Figure size 800x300 with 1 Axes>"
      ]
     },
     "metadata": {},
     "output_type": "display_data"
    }
   ],
   "source": [
    "# Box plot of a numerical variable by a categorical variable\n",
    "\n",
    "plt.figure(figsize = (8,3))\n",
    "plt.boxplot([df.loc[df['gender'] == 'Male', 'Age'],\n",
    "             df.loc[df['gender'] == 'Female', 'Age']],\n",
    "            labels=['Male', 'Female'])\n",
    "plt.xlabel('gender')\n",
    "plt.ylabel('Age')\n",
    "plt.title('Age Distribution by Gender')\n",
    "plt.show()"
   ]
  },
  {
   "cell_type": "markdown",
   "id": "bd9ff98b",
   "metadata": {},
   "source": [
    "# 2. df2 (customer Transaction)analysis"
   ]
  },
  {
   "cell_type": "code",
   "execution_count": 102,
   "id": "c4ff3b65",
   "metadata": {
    "scrolled": false
   },
   "outputs": [
    {
     "data": {
      "text/html": [
       "<div>\n",
       "<style scoped>\n",
       "    .dataframe tbody tr th:only-of-type {\n",
       "        vertical-align: middle;\n",
       "    }\n",
       "\n",
       "    .dataframe tbody tr th {\n",
       "        vertical-align: top;\n",
       "    }\n",
       "\n",
       "    .dataframe thead th {\n",
       "        text-align: right;\n",
       "    }\n",
       "</style>\n",
       "<table border=\"1\" class=\"dataframe\">\n",
       "  <thead>\n",
       "    <tr style=\"text-align: right;\">\n",
       "      <th></th>\n",
       "      <th>transaction_id</th>\n",
       "      <th>product_id</th>\n",
       "      <th>customer_id</th>\n",
       "      <th>transaction_date</th>\n",
       "      <th>online_order</th>\n",
       "      <th>order_status</th>\n",
       "      <th>brand</th>\n",
       "      <th>product_line</th>\n",
       "      <th>product_class</th>\n",
       "      <th>product_size</th>\n",
       "      <th>list_price</th>\n",
       "      <th>standard_cost</th>\n",
       "      <th>product_first_sold_date</th>\n",
       "    </tr>\n",
       "  </thead>\n",
       "  <tbody>\n",
       "    <tr>\n",
       "      <th>0</th>\n",
       "      <td>140</td>\n",
       "      <td>11</td>\n",
       "      <td>462</td>\n",
       "      <td>1/1/2017</td>\n",
       "      <td>False</td>\n",
       "      <td>Approved</td>\n",
       "      <td>Giant Bicycles</td>\n",
       "      <td>Standard</td>\n",
       "      <td>high</td>\n",
       "      <td>medium</td>\n",
       "      <td>1274.93</td>\n",
       "      <td>$764.96</td>\n",
       "      <td>42560.0</td>\n",
       "    </tr>\n",
       "    <tr>\n",
       "      <th>1</th>\n",
       "      <td>517</td>\n",
       "      <td>77</td>\n",
       "      <td>311</td>\n",
       "      <td>1/1/2017</td>\n",
       "      <td>True</td>\n",
       "      <td>Approved</td>\n",
       "      <td>WeareA2B</td>\n",
       "      <td>Standard</td>\n",
       "      <td>medium</td>\n",
       "      <td>medium</td>\n",
       "      <td>1769.64</td>\n",
       "      <td>$108.76</td>\n",
       "      <td>40672.0</td>\n",
       "    </tr>\n",
       "    <tr>\n",
       "      <th>2</th>\n",
       "      <td>561</td>\n",
       "      <td>65</td>\n",
       "      <td>2298</td>\n",
       "      <td>1/1/2017</td>\n",
       "      <td>False</td>\n",
       "      <td>Approved</td>\n",
       "      <td>WeareA2B</td>\n",
       "      <td>Standard</td>\n",
       "      <td>medium</td>\n",
       "      <td>medium</td>\n",
       "      <td>1807.45</td>\n",
       "      <td>$778.69</td>\n",
       "      <td>40410.0</td>\n",
       "    </tr>\n",
       "    <tr>\n",
       "      <th>3</th>\n",
       "      <td>1293</td>\n",
       "      <td>67</td>\n",
       "      <td>1931</td>\n",
       "      <td>1/1/2017</td>\n",
       "      <td>True</td>\n",
       "      <td>Approved</td>\n",
       "      <td>Norco Bicycles</td>\n",
       "      <td>Road</td>\n",
       "      <td>medium</td>\n",
       "      <td>medium</td>\n",
       "      <td>544.05</td>\n",
       "      <td>$376.84</td>\n",
       "      <td>38647.0</td>\n",
       "    </tr>\n",
       "    <tr>\n",
       "      <th>4</th>\n",
       "      <td>1403</td>\n",
       "      <td>0</td>\n",
       "      <td>2891</td>\n",
       "      <td>1/1/2017</td>\n",
       "      <td>True</td>\n",
       "      <td>Approved</td>\n",
       "      <td>OHM Cycles</td>\n",
       "      <td>Standard</td>\n",
       "      <td>medium</td>\n",
       "      <td>medium</td>\n",
       "      <td>183.86</td>\n",
       "      <td>$137.90</td>\n",
       "      <td>34170.0</td>\n",
       "    </tr>\n",
       "  </tbody>\n",
       "</table>\n",
       "</div>"
      ],
      "text/plain": [
       "   transaction_id  product_id  customer_id transaction_date online_order  \\\n",
       "0             140          11          462         1/1/2017        False   \n",
       "1             517          77          311         1/1/2017         True   \n",
       "2             561          65         2298         1/1/2017        False   \n",
       "3            1293          67         1931         1/1/2017         True   \n",
       "4            1403           0         2891         1/1/2017         True   \n",
       "\n",
       "  order_status           brand product_line product_class product_size  \\\n",
       "0     Approved  Giant Bicycles     Standard          high       medium   \n",
       "1     Approved        WeareA2B     Standard        medium       medium   \n",
       "2     Approved        WeareA2B     Standard        medium       medium   \n",
       "3     Approved  Norco Bicycles         Road        medium       medium   \n",
       "4     Approved      OHM Cycles     Standard        medium       medium   \n",
       "\n",
       "   list_price standard_cost  product_first_sold_date  \n",
       "0     1274.93      $764.96                   42560.0  \n",
       "1     1769.64      $108.76                   40672.0  \n",
       "2     1807.45      $778.69                   40410.0  \n",
       "3      544.05      $376.84                   38647.0  \n",
       "4      183.86      $137.90                   34170.0  "
      ]
     },
     "execution_count": 102,
     "metadata": {},
     "output_type": "execute_result"
    }
   ],
   "source": [
    "df2.head()"
   ]
  },
  {
   "cell_type": "code",
   "execution_count": 130,
   "id": "0e65f1e7",
   "metadata": {
    "scrolled": false
   },
   "outputs": [
    {
     "data": {
      "image/png": "[encoded data removed]",
      "text/plain": [
       "<Figure size 1000x300 with 1 Axes>"
      ]
     },
     "metadata": {},
     "output_type": "display_data"
    }
   ],
   "source": [
    "# Visualize the distribution of a numerical variable using a histogram with bins:\n",
    "\n",
    "plt.figure(figsize = (10,3))\n",
    "plt.hist(df2['list_price'], bins=40, color = 'purple')\n",
    "plt.xlabel('list_price')\n",
    "plt.ylabel('Count')\n",
    "plt.title('Distribution of list_price')\n",
    "plt.show()"
   ]
  },
  {
   "cell_type": "markdown",
   "id": "10eaa7c2",
   "metadata": {},
   "source": [
    "# df analysis"
   ]
  },
  {
   "cell_type": "code",
   "execution_count": 125,
   "id": "d4e77c29",
   "metadata": {},
   "outputs": [
    {
     "data": {
      "image/png": "[encoded data removed]",
      "text/plain": [
       "<Figure size 2000x600 with 1 Axes>"
      ]
     },
     "metadata": {},
     "output_type": "display_data"
    }
   ],
   "source": [
    "# Plot a bar chart to show the count of each category in a categorical variable:\n",
    " \n",
    "plt.figure(figsize = (20,6))    \n",
    "plt.bar(df['job_industry_category'].value_counts().index, df['job_industry_category'].value_counts(), color = 'green')\n",
    "plt.xlabel('job_industry_category')\n",
    "plt.ylabel('Count')\n",
    "plt.title('Distribution of job_industry_category')\n",
    "plt.xticks(rotation=90)\n",
    "plt.show()"
   ]
  },
  {
   "cell_type": "code",
   "execution_count": 123,
   "id": "041e7628",
   "metadata": {},
   "outputs": [
    {
     "data": {
      "text/plain": [
       "<Figure size 1600x400 with 0 Axes>"
      ]
     },
     "metadata": {},
     "output_type": "display_data"
    },
    {
     "data": {
      "image/png": "[encoded data removed]",
      "text/plain": [
       "<Figure size 640x480 with 1 Axes>"
      ]
     },
     "metadata": {},
     "output_type": "display_data"
    }
   ],
   "source": [
    "# Create a stacked bar chart to visualize the distribution of a categorical variable by another categorical variable:\n",
    "\n",
    "plt.figure(figsize = (16,4))\n",
    "cross_tab = pd.crosstab(df['gender'], df['job_industry_category'])\n",
    "cross_tab.plot(kind='bar', stacked=True)\n",
    "plt.xlabel('gender')\n",
    "plt.ylabel('Count')\n",
    "plt.title('Distribution of job_industry_category by Gender')\n",
    "plt.legend(title='job_industry_category')\n",
    "plt.xticks(rotation=0)\n",
    "plt.show()"
   ]
  },
  {
   "cell_type": "markdown",
   "id": "32bee09d",
   "metadata": {},
   "source": [
    "## Conclusion of Exploratory Data Analysis (EDA)\n",
    "\n",
    "1. Demographic Insights:\n",
    "\n",
    "* The customer demographic dataset provides valuable insights into the characteristics of Sprocket Central Pty Ltd's customer base.\n",
    "*The age distribution of customers is positively skewed, with the majority falling between 30 and 50 years old.\n",
    "*Gender distribution shows a relatively balanced representation between males and females.\n",
    "*Education levels vary, with a significant proportion of customers having completed a bachelor's degree.\n",
    "\n",
    "2. Transaction Patterns:\n",
    "\n",
    "* The transactions dataset reveals patterns and behaviors related to customer purchases.\n",
    "* The transaction amount ranges from low to high values, indicating varying customer spending levels.\n",
    "\n",
    "3. Correlations and Relationships:\n",
    "\n",
    "* Exploring correlations between variables suggests potential relationships and dependencies.\n",
    "* Age and income exhibit a positive correlation, indicating higher incomes tend to align with older customers.\n",
    "\n",
    "4. Targeting Strategies:\n",
    "\n",
    "* By segmenting customers based on demographic variables and transaction behavior, we can identify distinct customer groups.\n",
    "* Further analysis using predictive models can help determine which customers are likely to drive the most value for the organization.\n",
    "*Variables such as age, income,and gender can be important factors in targeting high-value customers.\n",
    "\n",
    "5. Recommendations:\n",
    "\n",
    "* Based on the EDA findings, it is recommended to focus marketing efforts on segments with high potential value, such as customers aged 30-50, with higher incomes and a history of purchasing high-value items.\n",
    "* Targeted marketing campaigns can be tailored to specific customer groups, offering personalized incentives and promotions to increase customer engagement and drive sales.\n",
    "* Continuous monitoring and analysis of customer behavior and preferences will help refine and optimize targeting strategies over time.\n",
    "\n",
    "\n",
    "By leveraging the insights gained from the EDA, Sprocket Central Pty Ltd can make data-driven decisions to enhance their marketing strategies, improve customer engagement, and drive business growth."
   ]
  },
  {
   "cell_type": "code",
   "execution_count": null,
   "id": "a43eee42",
   "metadata": {},
   "outputs": [],
   "source": []
  }
 ],
 "metadata": {
  "kernelspec": {
   "display_name": "Python 3 (ipykernel)",
   "language": "python",
   "name": "python3"
  },
  "language_info": {
   "codemirror_mode": {
    "name": "ipython",
    "version": 3
   },
   "file_extension": ".py",
   "mimetype": "text/x-python",
   "name": "python",
   "nbconvert_exporter": "python",
   "pygments_lexer": "ipython3",
   "version": "3.9.13"
  }
 },
 "nbformat": 4,
 "nbformat_minor": 5
}
